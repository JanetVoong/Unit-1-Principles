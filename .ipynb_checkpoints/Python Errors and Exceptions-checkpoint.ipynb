{
 "cells": [
  {
   "cell_type": "markdown",
   "metadata": {},
   "source": [
    "# The menu code and functions for each choice:"
   ]
  },
  {
   "cell_type": "code",
   "execution_count": 1,
   "metadata": {},
   "outputs": [],
   "source": [
    "#constants\n",
    "VALIDCHOICES = \"ABCE\"\n",
    "\n",
    "def choiceA():\n",
    "    print(\"you chose option 1\")\n",
    "\n",
    "def choiceB():\n",
    "    print(\"you chose option 2\")\n",
    "    \n",
    "def choiceC():\n",
    "    print(\"you chose option 3\")\n",
    "    \n",
    "def choiceE():\n",
    "    print(\"you chose to exit... bye!\")\n",
    "    \n",
    "def menu():\n",
    "    print(\"--------MENU--------\")\n",
    "    print(\"A) choice 1\")\n",
    "    print(\"B) choice 2\")\n",
    "    print(\"C) choice 3\")\n",
    "    print(\"E)xit\")\n",
    "    choice = input(\"please enter your choice: \").upper()\n",
    "    return choice"
   ]
  },
  {
   "cell_type": "markdown",
   "metadata": {},
   "source": [
    "# Main Program\n",
    "## shows menu, validates choice, handles valid choices"
   ]
  },
  {
   "cell_type": "code",
   "execution_count": 2,
   "metadata": {},
   "outputs": [
    {
     "name": "stdout",
     "output_type": "stream",
     "text": [
      "--------MENU--------\n",
      "A) choice 1\n",
      "B) choice 2\n",
      "C) choice 3\n",
      "E)xit\n",
      "please enter your choice: a\n",
      "you chose option 1\n"
     ]
    }
   ],
   "source": [
    "#main program starts here\n",
    "\n",
    "#show the menu\n",
    "userChoice =menu()\n",
    "if userChoice not in VALIDCHOICES:\n",
    "    print(\"that was not a valid menu choice: \")\n",
    "elif userChoice == \"A\":\n",
    "    choiceA()\n",
    "elif userChoice == \"B\":\n",
    "    choiceB()\n",
    "elif userChoice == \"C\":\n",
    "    choiceC()\n",
    "elif userChoice == \"E\":\n",
    "    choiceE()"
   ]
  },
  {
   "cell_type": "markdown",
   "metadata": {},
   "source": [
    "## repeat asking for a valid choice"
   ]
  },
  {
   "cell_type": "code",
   "execution_count": 3,
   "metadata": {},
   "outputs": [
    {
     "name": "stdout",
     "output_type": "stream",
     "text": [
      "--------MENU--------\n",
      "A) choice 1\n",
      "B) choice 2\n",
      "C) choice 3\n",
      "E)xit\n",
      "please enter your choice: a\n",
      "you chose option 1\n"
     ]
    }
   ],
   "source": [
    "#main program starts here\n",
    "\n",
    "#assume the users choice is NOT valid\n",
    "valid = False\n",
    "#keep asking until they make a valid choice\n",
    "while not valid:\n",
    "#show the menu\n",
    "    userChoice =menu()\n",
    "    if userChoice not in VALIDCHOICES:\n",
    "        print(\"that was not a valid menu choice, try again\")\n",
    "    else:\n",
    "        valid = True #so the loop doesn't repeat\n",
    "        #handle the valid choice\n",
    "        if userChoice == \"A\":\n",
    "            choiceA()\n",
    "        elif userChoice == \"B\":\n",
    "            choiceB()\n",
    "        elif userChoice == \"C\":\n",
    "            choiceC()\n",
    "        elif userChoice == \"E\":\n",
    "            choiceE()"
   ]
  },
  {
   "cell_type": "markdown",
   "metadata": {},
   "source": [
    "## repeat showing the menu until exit"
   ]
  },
  {
   "cell_type": "code",
   "execution_count": 4,
   "metadata": {},
   "outputs": [
    {
     "name": "stdout",
     "output_type": "stream",
     "text": [
      "--------MENU--------\n",
      "A) choice 1\n",
      "B) choice 2\n",
      "C) choice 3\n",
      "E)xit\n",
      "please enter your choice: a\n",
      "you chose option 1\n"
     ]
    }
   ],
   "source": [
    "#assume the users choice is NOT valid\n",
    "valid = False\n",
    "#keep asking until they make a valid choice\n",
    "while not valid:\n",
    "#show the menu\n",
    "    userChoice =menu()\n",
    "    if userChoice not in VALIDCHOICES:\n",
    "        print(\"that was not a valid menu choice, try again\")\n",
    "    else:\n",
    "        valid = True #so the loop doesn't repeat\n",
    "        #handle the valid choice\n",
    "        if userChoice == \"A\":\n",
    "            choiceA()\n",
    "        elif userChoice == \"B\":\n",
    "            choiceB()\n",
    "        elif userChoice == \"C\":\n",
    "            choiceC()\n",
    "        elif userChoice == \"E\":\n",
    "            choiceE()\n",
    "            exit = True #so the loop doesn't repeat"
   ]
  },
  {
   "cell_type": "markdown",
   "metadata": {},
   "source": [
    "# Writing robust code\n",
    "Handling exceptions with try/except statement\n",
    "\n",
    "## Step 1\n",
    "### Dealing with erroneous data types"
   ]
  },
  {
   "cell_type": "code",
   "execution_count": 5,
   "metadata": {},
   "outputs": [
    {
     "name": "stdout",
     "output_type": "stream",
     "text": [
      "welcome to my robust user input validation\n",
      "please enter your age as a number between 14-10043\n"
     ]
    }
   ],
   "source": [
    "print(\"welcome to my robust user input validation\")\n",
    "try:\n",
    "    age = int(input(\"please enter your age as a number between 14-100\"))\n",
    "except ValueError:\n",
    "    print(\"that was not a valid number\")"
   ]
  },
  {
   "cell_type": "markdown",
   "metadata": {},
   "source": [
    "## Step 2\n",
    "### Dealing with invalid data (range)"
   ]
  },
  {
   "cell_type": "code",
   "execution_count": 6,
   "metadata": {},
   "outputs": [
    {
     "name": "stdout",
     "output_type": "stream",
     "text": [
      "welcome to my robust user input validation\n",
      "please enter your age as a number between 14-10043\n"
     ]
    }
   ],
   "source": [
    "print(\"welcome to my robust user input validation\")\n",
    "try:\n",
    "    age = int(input(\"please enter your age as a number between 14-100\"))\n",
    "    if age > 100 or age < 14:\n",
    "        print(\"that was not in the valid range of 14-100\")\n",
    "except ValueError:\n",
    "    print(\"that was not a valid number\")"
   ]
  },
  {
   "cell_type": "markdown",
   "metadata": {},
   "source": [
    "## Step 3\n",
    "### Repeat until the user gets it right"
   ]
  },
  {
   "cell_type": "code",
   "execution_count": 7,
   "metadata": {},
   "outputs": [
    {
     "name": "stdout",
     "output_type": "stream",
     "text": [
      "welcome to my robust user input validation\n",
      "please enter your age as a number between 14-10043\n"
     ]
    }
   ],
   "source": [
    "print(\"welcome to my robust user input validation\")\n",
    "#always start by assuming the input is NOT valid\n",
    "valid = False\n",
    "#use a while loop - you don't know how many times the user will et the input wrong\n",
    "while not valid:\n",
    "    try:\n",
    "        age = int(input(\"please enter your age as a number between 14-100\"))\n",
    "        if age > 100 or age < 14:\n",
    "            print(\"that was not a valid range of 14-100, try again\")\n",
    "        else:\n",
    "            #only here do we know they got it right\n",
    "            #its a number and its in the rage\n",
    "            valid = True\n",
    "    except ValueError:\n",
    "            print(\"that was not a valid number, try again\")"
   ]
  },
  {
   "cell_type": "markdown",
   "metadata": {},
   "source": [
    "# Valiation Exercises\n",
    "\n",
    "1) Assume you want the user to ONLY enter 'P' or 'F' for the question \"do you work part-time or full-time.\" You will have to validate their input and keep asking them to enter until you have a valid choice\n",
    "\n",
    "2) Assume you want the user to only enter the valid menu options which are 1-5 and 0 to exit\n",
    "\n",
    "3) Write code that validates numerical input for height where the valid range for heights is 0.75 - 1.3 meters"
   ]
  },
  {
   "cell_type": "code",
   "execution_count": 8,
   "metadata": {},
   "outputs": [
    {
     "name": "stdout",
     "output_type": "stream",
     "text": [
      "do you have a part-time or a full-time job?lk\n",
      "that was not a valid answer\n",
      "do you have a part-time or a full-time job?p\n",
      "you have a part-time job, wowzers\n"
     ]
    }
   ],
   "source": [
    "while True:\n",
    "    try:\n",
    "        job = input(\"do you have a part-time or a full-time job?\")\n",
    "        job = job.upper()\n",
    "        if job == \"P\":\n",
    "            print(\"you have a part-time job, wowzers\")\n",
    "            break\n",
    "        elif job == \"F\":\n",
    "            print(\"you have a full-time job, amazeballs\")\n",
    "            break\n",
    "        else:\n",
    "            print(\"that was not a valid answer\")\n",
    "    except :\n",
    "        print(\"that was not a valid answer\")"
   ]
  },
  {
   "cell_type": "code",
   "execution_count": 1,
   "metadata": {},
   "outputs": [
    {
     "name": "stdout",
     "output_type": "stream",
     "text": [
      "--------MENU--------\n",
      "1) choice 1\n",
      "2) choice 2\n",
      "3) choice 3\n",
      "4) choice 4\n",
      "5) choice 5\n",
      "0) exit\n",
      "please enter your choice: 1\n",
      "you chose option 1\n"
     ]
    }
   ],
   "source": [
    "#constants\n",
    "VALIDCHOICES = \"012345\"\n",
    "\n",
    "def choice1():\n",
    "    print(\"you chose option 1\")\n",
    "\n",
    "def choice2():\n",
    "    print(\"you chose option 2\")\n",
    "    \n",
    "def choice3():\n",
    "    print(\"you chose option 3\")\n",
    "    \n",
    "def choice4():\n",
    "    print(\"you chose option 4\")\n",
    "    \n",
    "def choice5():\n",
    "    print(\"you chose option 5\")\n",
    "    \n",
    "def choice0():\n",
    "    print(\"you chose to exit... bye!\")\n",
    "    \n",
    "def menu():\n",
    "    print(\"--------MENU--------\")\n",
    "    print(\"1) choice 1\")\n",
    "    print(\"2) choice 2\")\n",
    "    print(\"3) choice 3\")\n",
    "    print(\"4) choice 4\")\n",
    "    print(\"5) choice 5\")\n",
    "    print(\"0) exit\")\n",
    "    choice = input(\"please enter your choice: \")\n",
    "    return choice\n",
    "\n",
    "#assume the users choice is NOT valid\n",
    "valid = False\n",
    "#keep asking until they make a valid choice\n",
    "while not valid:\n",
    "#show the menu\n",
    "    userChoice = menu()\n",
    "    if userChoice not in VALIDCHOICES:\n",
    "        print(\"that was not a valid menu choice, try again\")\n",
    "    else:\n",
    "        valid = True #so the loop doesn't repeat\n",
    "        #handle the valid choice\n",
    "        if userChoice == \"1\":\n",
    "            choice1()\n",
    "        elif userChoice == \"2\":\n",
    "            choice2()\n",
    "        elif userChoice == \"3\":\n",
    "            choice3()\n",
    "        elif userChoice == \"4\":\n",
    "            choice4()\n",
    "        elif userChoice == \"5\":\n",
    "            choice5()\n",
    "        elif userChoice == \"0\":\n",
    "            choice0()\n",
    "            exit = True #so the loop doesn't repeat"
   ]
  },
  {
   "cell_type": "code",
   "execution_count": 2,
   "metadata": {},
   "outputs": [
    {
     "name": "stdout",
     "output_type": "stream",
     "text": [
      "enter a number: 7890-\n",
      "that is not a valid number\n",
      "enter a number: -43\n",
      "-43.0\n",
      "that is not a valid number\n",
      "enter a number: 3.4\n",
      "3.4\n",
      "that is not a valid number\n",
      "enter a number: 1.2\n",
      "1.2\n",
      "that is a valid number, thank you\n"
     ]
    }
   ],
   "source": [
    "while True:\n",
    "    try:\n",
    "        user = float(input(\"enter a number: \"))\n",
    "        print(user)\n",
    "        if user > 0.75 and user < 1.3:\n",
    "            print(\"that is a valid number, thank you\")\n",
    "            break\n",
    "        else:\n",
    "            print(\"that is not a valid number\")\n",
    "    except:\n",
    "        print(\"that is not a valid number\")"
   ]
  }
 ],
 "metadata": {
  "kernelspec": {
   "display_name": "Python 3",
   "language": "python",
   "name": "python3"
  },
  "language_info": {
   "codemirror_mode": {
    "name": "ipython",
    "version": 3
   },
   "file_extension": ".py",
   "mimetype": "text/x-python",
   "name": "python",
   "nbconvert_exporter": "python",
   "pygments_lexer": "ipython3",
   "version": "3.5.2"
  }
 },
 "nbformat": 4,
 "nbformat_minor": 2
}
