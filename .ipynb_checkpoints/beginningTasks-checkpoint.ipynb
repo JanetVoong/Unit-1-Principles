{
 "cells": [
  {
   "cell_type": "markdown",
   "metadata": {},
   "source": [
    "# Task 1: Simulate one dice roll in Python\n",
    "\n",
    "Use well-named variable(s), constants(s), string(s), the random module and good user interaction (input and output). "
   ]
  },
  {
   "cell_type": "code",
   "execution_count": 2,
   "metadata": {},
   "outputs": [
    {
     "name": "stdout",
     "output_type": "stream",
     "text": [
      "Do you want to roll the dice? yes\n",
      "The dice rolled a 2\n"
     ]
    }
   ],
   "source": [
    "roll_dice = str(input(\"Do you want to roll the dice? \"))\n",
    "#do not put quoatation marks as it will identify it as a string\n",
    "\n",
    "import random\n",
    "#this will allow the variables to be randomly selected\n",
    "number = random.randint(1,6)\n",
    "#dice will represent the vaiables of a dice\n",
    "\n",
    "if roll_dice == (\"yes\"):\n",
    "    print (\"The dice rolled a\",str(number))\n",
    "    #this will display the randomly selected variables\n",
    "else:\n",
    "    print(\"thank you, goodbye\")"
   ]
  },
  {
   "cell_type": "markdown",
   "metadata": {},
   "source": [
    "# Task 2: Weather Based IF Statement\n",
    "\n",
    "Write a program that tells the user what to wear (shorts, trousers, hat, coat, etc etc you choose) based on the temperature that they input. Use well-named variable(s), constants(s), string(s), type conversion, a complex IF statement, comparison and logical operators, and good input and output messages."
   ]
  },
  {
   "cell_type": "code",
   "execution_count": 4,
   "metadata": {},
   "outputs": [
    {
     "name": "stdout",
     "output_type": "stream",
     "text": [
      "What is the temperature today? 10\n",
      "You should wear: ['trousers', 'trainers']\n"
     ]
    }
   ],
   "source": [
    "Weather = int(input(\"What is the temperature today? \"))\n",
    "\n",
    "spring = [\"trousers\",\"trainers\"]\n",
    "summer = [\"sunglasses\",\"shorts\",\"vest\"]\n",
    "autumn = [\"jacket\",\"hat\",\"boots\"]\n",
    "winter = [\"scarf\",\"coat\",\"sweater\",\"gloves\"]\n",
    "#these are the variables\n",
    "\n",
    "if Weather >= 25:\n",
    "    print(\"You should wear:\",summer)\n",
    "\n",
    "elif Weather <= 18:\n",
    "    print(\"You should wear:\",spring)\n",
    "    \n",
    "elif Weather >= 1:\n",
    "    print(\"You should wear:\",autumn)\n",
    "    \n",
    "elif Weather <= 0:\n",
    "    print(\"You should wear:\",winter)\n",
    "    \n",
    "else:\n",
    "    print(\"Please try again\")"
   ]
  },
  {
   "cell_type": "markdown",
   "metadata": {},
   "source": [
    "# Plan:\n",
    "\n",
    "Define your requirements:\n",
    "1. user must be able to input their a-level subjects\n",
    "2. check if a-level includes maths and biology\n",
    "    * output message - you can apply for medicine\n",
    "3. check if a-level includes maths and computer science\n",
    "    * output message - you can apply for computer science\n",
    "4. check if a-level includes biology and computer science\n",
    "    * output message - you can apply for computational biology\n",
    "5. does not include any of the subjects\n",
    "    * output message - you can not apply for any course "
   ]
  },
  {
   "cell_type": "code",
   "execution_count": null,
   "metadata": {},
   "outputs": [],
   "source": [
    "#this is a pesudocode\n",
    "#pesudocodes are writing up a set of instructions for a computer program using structured English\n",
    "#therefore this will not run\n",
    "\n",
    "alevels = []\n",
    "#this is a list function\n",
    "\n",
    "alevels = input(\"Please enter your a-levels.\")\n",
    "\n",
    "if alevels contains \"maths\" and \"biology\" then\n",
    "    output \"You can apply for Medicine\"\n",
    "\n",
    "elif alevels contains \"maths\" and \"computer science\" then\n",
    "    output \"You can apply for Computer Science\"\n",
    "    \n",
    "elif alevels contains \"biology\" and \"computer science\" then\n",
    "    output \"You can apply for Computational Biology\"\n",
    "    \n",
    "else\n",
    "    output \"You can not apply for any courses.\""
   ]
  },
  {
   "cell_type": "code",
   "execution_count": null,
   "metadata": {},
   "outputs": [],
   "source": [
    "alevels = []\n"
   ]
  },
  {
   "cell_type": "markdown",
   "metadata": {},
   "source": [
    "# Task 4\n",
    "Allow entry to a movie if the user is older than 18 or if they are accompanied by an adult."
   ]
  },
  {
   "cell_type": "code",
   "execution_count": 6,
   "metadata": {},
   "outputs": [
    {
     "name": "stdout",
     "output_type": "stream",
     "text": [
      "How old are you? 10\n",
      "Are you accompanied by an adult? yes\n",
      "You may enter, enjoy the movie!\n"
     ]
    }
   ],
   "source": [
    "age = int(input(\"How old are you? \"))\n",
    "\n",
    "if age >= 18:\n",
    "    print(\"You may enter, enjoy the movie!\")\n",
    "if age < 18:\n",
    "    adult = str(input(\"Are you accompanied by an adult? \"))\n",
    "    if adult == \"yes\":\n",
    "        print(\"You may enter, enjoy the movie!\")\n",
    "    if adult == \"no\":\n",
    "        print(\"You can not enter, sorry\")"
   ]
  },
  {
   "cell_type": "markdown",
   "metadata": {},
   "source": [
    "# Task 5\n",
    "\n",
    "Allow the user to come to your party if they are a boy and they like pizza."
   ]
  },
  {
   "cell_type": "markdown",
   "metadata": {},
   "source": []
  },
  {
   "cell_type": "markdown",
   "metadata": {},
   "source": [
    "# ITERATION: FOR loops in PYTHON (counting loops)"
   ]
  },
  {
   "cell_type": "code",
   "execution_count": 7,
   "metadata": {},
   "outputs": [
    {
     "name": "stdout",
     "output_type": "stream",
     "text": [
      "Current Letter: P\n",
      "Current Letter: Y\n",
      "Current Letter: T\n",
      "Current Letter: H\n",
      "Current Letter: O\n",
      "Current Letter: N\n"
     ]
    }
   ],
   "source": [
    "#exmaple 1\n",
    "#identifies each letter of \"python\"\n",
    "\n",
    "for i in \"PYTHON\":\n",
    "    print(\"Current Letter:\",i)"
   ]
  },
  {
   "cell_type": "code",
   "execution_count": 8,
   "metadata": {},
   "outputs": [
    {
     "name": "stdout",
     "output_type": "stream",
     "text": [
      "hello\n",
      "goodbye\n",
      "hello\n",
      "goodbye\n",
      "hello\n",
      "goodbye\n"
     ]
    }
   ],
   "source": [
    "#example 2\n",
    "#prints 6 outputs\n",
    "\n",
    "for i in range(0,3):\n",
    "    print(\"hello\")\n",
    "    print(\"goodbye\")"
   ]
  },
  {
   "cell_type": "code",
   "execution_count": 9,
   "metadata": {},
   "outputs": [
    {
     "name": "stdout",
     "output_type": "stream",
     "text": [
      "f.r.e.d."
     ]
    }
   ],
   "source": [
    "#example 3\n",
    "#prints out the variable with characters replacing in between each letter of the variable\n",
    "\n",
    "name=\"fred\"\n",
    "for i in name:\n",
    "    print(i, end=\".\")"
   ]
  },
  {
   "cell_type": "code",
   "execution_count": 10,
   "metadata": {},
   "outputs": [
    {
     "name": "stdout",
     "output_type": "stream",
     "text": [
      "1\n",
      "6\n",
      "11\n",
      "16\n",
      "21\n",
      "26\n",
      "31\n",
      "36\n",
      "41\n",
      "46\n",
      "51\n",
      "56\n",
      "61\n",
      "66\n",
      "71\n",
      "76\n",
      "81\n",
      "86\n",
      "91\n",
      "96\n"
     ]
    }
   ],
   "source": [
    "#example 4\n",
    "#print out numbers 1 - 100, adding 5 each time\n",
    "\n",
    "for i in range (1,101,5):\n",
    "    print(i)"
   ]
  },
  {
   "cell_type": "code",
   "execution_count": 11,
   "metadata": {},
   "outputs": [
    {
     "name": "stdout",
     "output_type": "stream",
     "text": [
      "1*2*3*4*5*6*7*8*9*10*11*12*13*14*15*16*17*18*19*20*21*22*23*24*25*26*27*28*29*30*31*32*33*34*35*36*37*38*39*40*41*42*43*44*45*46*47*48*49*50*51*52*53*54*55*56*57*58*59*60*61*62*63*64*65*66*67*68*69*70*71*72*73*74*75*76*77*78*79*80*81*82*83*84*85*86*87*88*89*90*91*92*93*94*95*96*97*98*99*100*"
     ]
    }
   ],
   "source": [
    "#task 1\n",
    "#print out the numbers 1- 100 separated by stars\n",
    "\n",
    "for i in range (1,101):\n",
    "    print(i, end=\"*\")"
   ]
  },
  {
   "cell_type": "code",
   "execution_count": 12,
   "metadata": {},
   "outputs": [
    {
     "name": "stdout",
     "output_type": "stream",
     "text": [
      "12 Fred\n"
     ]
    }
   ],
   "source": [
    "#String Formatting, example 2\n",
    "\n",
    "name='Fred'\n",
    "age='12'\n",
    "\n",
    "print('{1} {0}'.format(name,age))"
   ]
  },
  {
   "cell_type": "code",
   "execution_count": 13,
   "metadata": {},
   "outputs": [
    {
     "name": "stdout",
     "output_type": "stream",
     "text": [
      "10\n",
      "3.141593\n"
     ]
    }
   ],
   "source": [
    "#Number Formatting, example 1\n",
    "\n",
    "radius = 10\n",
    "pi = 3.141592653589793\n",
    "\n",
    "print('{:d}'.format(radius))\n",
    "#d takes integers only\n",
    "print('{:f}'.format(pi))\n",
    "#f means six point number"
   ]
  },
  {
   "cell_type": "code",
   "execution_count": 14,
   "metadata": {},
   "outputs": [
    {
     "name": "stdout",
     "output_type": "stream",
     "text": [
      "3.14\n"
     ]
    }
   ],
   "source": [
    "#Number Formatting, example 2\n",
    "\n",
    "pi = 3.141592653589793\n",
    "print('{:0.2f}'.format(pi))\n",
    "#0.2f means two decimal points"
   ]
  },
  {
   "cell_type": "code",
   "execution_count": 15,
   "metadata": {},
   "outputs": [
    {
     "name": "stdout",
     "output_type": "stream",
     "text": [
      "106 , A \n"
     ]
    }
   ],
   "source": [
    "#ACII, example\n",
    "\n",
    "val = 65\n",
    "ch = 'j'\n",
    "\n",
    "x=ord(ch)\n",
    "#changes ACII value to a character\n",
    "\n",
    "y=chr(val)\n",
    "#changes character to an ACII value\n",
    "\n",
    "print('{} , {} '.format(x,y))"
   ]
  },
  {
   "cell_type": "code",
   "execution_count": 16,
   "metadata": {},
   "outputs": [
    {
     "name": "stdout",
     "output_type": "stream",
     "text": [
      "Please enter a word you would like to convert:hello\n",
      "104\n",
      "101\n",
      "108\n",
      "108\n",
      "111\n"
     ]
    }
   ],
   "source": [
    "#takes any word and converts it all to ACII\n",
    "word=input(\"Please enter a word you would like to convert:\")\n",
    "\n",
    "for letter in word:\n",
    "    print(ord(letter))"
   ]
  },
  {
   "cell_type": "code",
   "execution_count": 17,
   "metadata": {},
   "outputs": [
    {
     "name": "stdout",
     "output_type": "stream",
     "text": [
      "L\n",
      "i\n",
      "v\n",
      "e\n",
      " \n",
      "l\n",
      "o\n",
      "n\n",
      "g\n",
      " \n",
      "a\n",
      "n\n",
      "d\n",
      " \n",
      "p\n",
      "r\n",
      "o\n",
      "s\n",
      "p\n",
      "e\n",
      "r\n"
     ]
    }
   ],
   "source": [
    "phrase=[76,105,118,101,32,108,111,110,103,32,97,110,100,32,112,114,111,115,112,101,114]\n",
    "\n",
    "for letter in phrase:\n",
    "    print(chr(letter))"
   ]
  }
 ],
 "metadata": {
  "kernelspec": {
   "display_name": "Python 3",
   "language": "python",
   "name": "python3"
  },
  "language_info": {
   "codemirror_mode": {
    "name": "ipython",
    "version": 3
   },
   "file_extension": ".py",
   "mimetype": "text/x-python",
   "name": "python",
   "nbconvert_exporter": "python",
   "pygments_lexer": "ipython3",
   "version": "3.5.2"
  }
 },
 "nbformat": 4,
 "nbformat_minor": 2
}
