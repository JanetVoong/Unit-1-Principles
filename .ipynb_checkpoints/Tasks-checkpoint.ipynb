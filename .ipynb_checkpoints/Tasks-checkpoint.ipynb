{
 "cells": [
  {
   "cell_type": "markdown",
   "metadata": {},
   "source": [
    "# Task 1: Simulate one dice roll in Python\n",
    "\n",
    "Use well-named variable(s), constants(s), string(s), the random module and good user interaction (input and output). "
   ]
  },
  {
   "cell_type": "code",
   "execution_count": null,
   "metadata": {},
   "outputs": [],
   "source": [
    "roll_dice = input(\"Do you want to roll the dice?\")\n",
    "\n",
    "print(roll_dice)\n",
    "#do not put quoatation marks as it will identify it as a string\n",
    "\n",
    "from random import randint\n",
    "#this will allow the variables to be randomly selected\n",
    "\n",
    "dice = randint (1, 2, 3, 4, 5, 6)\n",
    "#dice will represent the vaiables of a dice\n",
    "\n",
    "if roll_dice == (\"yes\") or (\"y\"):\n",
    "    print(dice)\n",
    "    #this will display the randomly selected variables\n",
    "\n",
    "else:\n",
    "    print(\"thank you, goodbye\")"
   ]
  },
  {
   "cell_type": "markdown",
   "metadata": {},
   "source": [
    "# Task 2: Weather Based IF Statement\n",
    "\n",
    "Write a program that tells the user what to wear (shorts, trousers, hat, coat, etc etc you choose) based on the temperature that they input. Use well-named variable(s), constants(s), string(s), type conversion, a complex IF statement, comparison and logical operators, and good input and output messages."
   ]
  },
  {
   "cell_type": "code",
   "execution_count": null,
   "metadata": {},
   "outputs": [],
   "source": [
    "Weather = input(\"What is the temperature today?\")\n",
    "\n",
    "spring = trousers, trainers\n",
    "summer = shorts, t-shirt, flip-flops, sunglasses\n",
    "autumn = trousers, shirt, jacket, shoes, hat\n",
    "winter = trousers, jumper, coat, boots, hat, gloves, scarf\n",
    "#these are the variables\n",
    "\n",
    "if weather < 25:\n",
    "    print(summer)\n",
    "    \n",
    "elif weather < 18\n",
    "    print(spring)\n",
    "    \n",
    "elif weather < 1\n",
    "    print(autumn)\n",
    "    \n",
    "elif weather > 0\n",
    "    print(winter)\n",
    "    \n",
    "else:\n",
    "    print(\"please try again\")"
   ]
  },
  {
   "cell_type": "markdown",
   "metadata": {},
   "source": [
    "# Task 4\n",
    "Allow entry to a movie if the user is older than 18 or if they are accompanied by an adult."
   ]
  },
  {
   "cell_type": "code",
   "execution_count": null,
   "metadata": {
    "collapsed": true
   },
   "outputs": [],
   "source": [
    "age = 15\n",
    "accompanied = adult\n",
    "#constants\n",
    "\n",
    "if age < 18 or accompanied == adult:\n",
    "    print(\"You may enter, enjoy the movie!\")\n",
    "else:\n",
    "    print(\"You have no entry to the movie.\")"
   ]
  },
  {
   "cell_type": "markdown",
   "metadata": {},
   "source": [
    "# Task 5\n",
    "\n",
    "Allow the user to come to your party if they are a boy and they like pizza."
   ]
  }
 ],
 "metadata": {
  "kernelspec": {
   "display_name": "Python 3",
   "language": "python",
   "name": "python3"
  },
  "language_info": {
   "codemirror_mode": {
    "name": "ipython",
    "version": 3
   },
   "file_extension": ".py",
   "mimetype": "text/x-python",
   "name": "python",
   "nbconvert_exporter": "python",
   "pygments_lexer": "ipython3",
   "version": "3.5.2"
  }
 },
 "nbformat": 4,
 "nbformat_minor": 2
}
