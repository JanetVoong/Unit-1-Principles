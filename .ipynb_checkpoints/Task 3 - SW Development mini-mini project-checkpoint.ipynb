{
 "cells": [
  {
   "cell_type": "markdown",
   "metadata": {},
   "source": [
    "# Plan:\n",
    "\n",
    "Define your requirements:\n",
    "1. user must be able to input their a-level subjects\n",
    "2. check if a-level includes maths and biology\n",
    "    * output message - you can apply for medicine\n",
    "3. check if a-level includes maths and computer science\n",
    "    * output message - you can apply for computer science\n",
    "4. check if a-level includes biology and computer science\n",
    "    * output message - you can apply for computational biology\n",
    "5. "
   ]
  },
  {
   "cell_type": "code",
   "execution_count": 6,
   "metadata": {},
   "outputs": [
    {
     "ename": "SyntaxError",
     "evalue": "invalid syntax (<ipython-input-6-ee95e2cdef08>, line 8)",
     "output_type": "error",
     "traceback": [
      "\u001b[0;36m  File \u001b[0;32m\"<ipython-input-6-ee95e2cdef08>\"\u001b[0;36m, line \u001b[0;32m8\u001b[0m\n\u001b[0;31m    if alevels contains \"maths\" and \"biology\" then\u001b[0m\n\u001b[0m                      ^\u001b[0m\n\u001b[0;31mSyntaxError\u001b[0m\u001b[0;31m:\u001b[0m invalid syntax\n"
     ]
    }
   ],
   "source": [
    "#this is a pesudocode\n",
    "\n",
    "alevels = []\n",
    "#this is a list function\n",
    "\n",
    "alevels = input(\"Please enter your a-levels.\")\n",
    "\n",
    "if alevels contains \"maths\" and \"biology\" then\n",
    "    output \"You can apply for Medicine\"\n",
    "\n",
    "elif alevels contains \"maths\" and \"computer science\" then\n",
    "    output \"You can apply for Computer Science\"\n",
    "    \n",
    "elif alevels contains \"biology\" and \"computer science\" then\n",
    "    output \"You can apply for Computational Biology\"\n",
    "    \n",
    "else\n",
    "    output \"You can not apply for any courses.\""
   ]
  }
 ],
 "metadata": {
  "kernelspec": {
   "display_name": "Python 3",
   "language": "python",
   "name": "python3"
  },
  "language_info": {
   "codemirror_mode": {
    "name": "ipython",
    "version": 3
   },
   "file_extension": ".py",
   "mimetype": "text/x-python",
   "name": "python",
   "nbconvert_exporter": "python",
   "pygments_lexer": "ipython3",
   "version": "3.5.2"
  }
 },
 "nbformat": 4,
 "nbformat_minor": 2
}
