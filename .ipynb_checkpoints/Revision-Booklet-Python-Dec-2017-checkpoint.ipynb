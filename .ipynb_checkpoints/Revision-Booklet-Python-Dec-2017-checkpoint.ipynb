{
 "cells": [
  {
   "cell_type": "markdown",
   "metadata": {},
   "source": [
    "source - revision booklet python:\n",
    "https://docs.google.com/document/d/1QrDBpou8mCLOjINlP2YhwsQhglidKIRLU4_YG0XOP8U/edit"
   ]
  },
  {
   "cell_type": "markdown",
   "metadata": {},
   "source": [
    "# 1. Output to the screen\n",
    "\n",
    "## Hello World\n",
    "\n",
    "All programmers start with the program hello world.  It’s very much of a rite of passage.  \n",
    "\n",
    "## Task 1a\n",
    "\n",
    "Copy and run the following program in Python.\n",
    "\n",
    "    print('Hello World!')\n",
    "\n",
    "You will hopefully see the message\n",
    "    \n",
    "    Hello World!"
   ]
  },
  {
   "cell_type": "code",
   "execution_count": 9,
   "metadata": {},
   "outputs": [
    {
     "name": "stdout",
     "output_type": "stream",
     "text": [
      "Hello World!\n"
     ]
    }
   ],
   "source": [
    "print('Hello World!')"
   ]
  },
  {
   "cell_type": "markdown",
   "metadata": {},
   "source": [
    "Write a program that says:\n",
    "\n",
    "    This is\n",
    "    a computer program\n",
    "    that prints on several lines"
   ]
  },
  {
   "cell_type": "code",
   "execution_count": 10,
   "metadata": {},
   "outputs": [
    {
     "name": "stdout",
     "output_type": "stream",
     "text": [
      "This is\n",
      "a computer program\n",
      "that prints on several lines\n"
     ]
    }
   ],
   "source": [
    "print(\"This is\")\n",
    "print(\"a computer program\")\n",
    "print(\"that prints on several lines\")"
   ]
  },
  {
   "cell_type": "markdown",
   "metadata": {},
   "source": [
    "## Exercise\n",
    "Write a program to say:\n",
    "\n",
    "    This is John's first program\n",
    "\n",
    "The apostrophe makes this trickier than it first may seem  (Hint: Find out about escape characters in Python)."
   ]
  },
  {
   "cell_type": "code",
   "execution_count": 11,
   "metadata": {},
   "outputs": [
    {
     "name": "stdout",
     "output_type": "stream",
     "text": [
      "This is John's first program\n"
     ]
    }
   ],
   "source": [
    "print(\"This is John's first program\")"
   ]
  },
  {
   "cell_type": "markdown",
   "metadata": {},
   "source": [
    "# 2. Storing Data in Variables\n",
    "\n",
    "- We use variables in our programs to store data.\n",
    "- Each variable has a name and stores data of a certain type (string, integer, real etc).\n",
    "- In Python we do not have to explicitly state the data type being stored, it will work this out for itself when the variable is first used.\n",
    "- In this section we will just use string variables.\n",
    "- String is the programming term for text (i.e. letters, numbers and symbols).\n",
    "- Variable names can contain letters and numbers but should always start with a letter. \n",
    "- We assign a value to a variable using =\n",
    " \n",
    "## Task 2a\n",
    "Copy and run the following program:\n",
    "\n",
    "    name='Bob'\n",
    "    print('Hello '+name)"
   ]
  },
  {
   "cell_type": "code",
   "execution_count": 12,
   "metadata": {},
   "outputs": [
    {
     "name": "stdout",
     "output_type": "stream",
     "text": [
      "Hello Bob\n"
     ]
    }
   ],
   "source": [
    "name='Bob'\n",
    "print('Hello '+name)"
   ]
  },
  {
   "cell_type": "markdown",
   "metadata": {},
   "source": [
    "## Task 2b\n",
    "\n",
    "Start a program with:\n",
    "\n",
    "    language='Python'\n",
    "    print('I am learning to program in', language)\n",
    "\n",
    "Check the output."
   ]
  },
  {
   "cell_type": "code",
   "execution_count": 13,
   "metadata": {},
   "outputs": [
    {
     "name": "stdout",
     "output_type": "stream",
     "text": [
      "I am learning to program in Python\n"
     ]
    }
   ],
   "source": [
    "language='Python'\n",
    "print('I am learning to program in', language)"
   ]
  },
  {
   "cell_type": "markdown",
   "metadata": {},
   "source": [
    "We can change the value of a variable at any point. The code:\n",
    "\n",
    "    name='Bob\n",
    "    name='Liz'\n",
    "    print('Hello '+name)\n",
    "\n",
    "Will print\n",
    "    \n",
    "    Hello Liz (as the variable name has been overwritten with the value Liz).\n",
    "\n",
    "We can also change the contents of a variable referring to itself:\n",
    "\n",
    "    name='Bob'\n",
    "    name=name+'by'\n",
    "    print('Hello '+name)\n",
    "\n",
    "This will print\n",
    "    \n",
    "    Hello Bobby\n",
    "\n",
    "Whereas \n",
    "\n",
    "    name='Bob'\n",
    "    name=name+name\n",
    "    print('Hello '+name)\n",
    "\n",
    "Will print\n",
    "    \n",
    "    Hello BobBob\n",
    "\n",
    "## Task 2c\n",
    "Start a program where you save your name, your school name and your friend’s name in variables and then print it out."
   ]
  },
  {
   "cell_type": "code",
   "execution_count": 14,
   "metadata": {},
   "outputs": [
    {
     "name": "stdout",
     "output_type": "stream",
     "text": [
      "Janet Ada Shrek\n"
     ]
    }
   ],
   "source": [
    "name = \"Janet\"\n",
    "school = \"Ada\"\n",
    "friend = \"Shrek\"\n",
    "\n",
    "print(name, school, friend)"
   ]
  },
  {
   "cell_type": "markdown",
   "metadata": {},
   "source": [
    "# 3. Inputting Data\n",
    "\n",
    "We can now look at starting to make our programs interactive.  We are going to take in input from the user using the input function.\n",
    "\n",
    "    name=input('What is your name?')\n",
    "    print('Hello '+name)\n",
    "\n",
    "\n",
    "## Task 3a\n",
    "Write a program that asks for the town you live in and then replies I love visiting [town name].\n",
    "\n",
    "e.g.\n",
    "\n",
    "    Where do you live? London\n",
    "    I love visiting London"
   ]
  },
  {
   "cell_type": "code",
   "execution_count": 15,
   "metadata": {},
   "outputs": [
    {
     "name": "stdout",
     "output_type": "stream",
     "text": [
      "Where do you live? Seoul\n",
      "I love visiting Seoul\n"
     ]
    }
   ],
   "source": [
    "town=input(\"Where do you live? \")\n",
    "print(\"I love visiting\", town)"
   ]
  },
  {
   "cell_type": "markdown",
   "metadata": {},
   "source": [
    "## Task 3b\n",
    "Write a program that asks for your first name, then asks for your last name and finally greets you with your full name.\n",
    "\n",
    "e.g.\n",
    "\n",
    "    What is your first name? John\n",
    "    What is your last name? Smith\n",
    "    Hello John Smith"
   ]
  },
  {
   "cell_type": "code",
   "execution_count": 15,
   "metadata": {},
   "outputs": [
    {
     "name": "stdout",
     "output_type": "stream",
     "text": [
      "What is your first name? Janet\n",
      "What is your last name? Voong\n",
      "Hello Janet Voong\n"
     ]
    }
   ],
   "source": [
    "first=input(\"What is your first name? \")\n",
    "last=input(\"What is your last name? \")\n",
    "print(\"Hello\", first, last)"
   ]
  },
  {
   "cell_type": "markdown",
   "metadata": {},
   "source": [
    "## Task 3c\n",
    "Write a program that asks for your name then prints it out 5 times.\n",
    "\n",
    "e.g.\n",
    "\n",
    "    What is your name? Trevor\n",
    "    Trevor Trevor Trevor Trevor Trevor"
   ]
  },
  {
   "cell_type": "code",
   "execution_count": 19,
   "metadata": {},
   "outputs": [
    {
     "name": "stdout",
     "output_type": "stream",
     "text": [
      "What is your first name? Janet\n",
      "JanetJanetJanetJanetJanet\n"
     ]
    }
   ],
   "source": [
    "first=input(\"What is your first name? \")\n",
    "print(first*5)"
   ]
  },
  {
   "cell_type": "markdown",
   "metadata": {},
   "source": [
    "# 4. Calculations\n",
    "\n",
    "We can carry out calculations in Python.\n",
    "\n",
    "The arithmetic operators we use to do this are:\n",
    "\n",
    "\\+ addition\n",
    "\n",
    "\\- subtraction\n",
    "\n",
    "\\* multiplication\n",
    "\n",
    "/ division\n",
    "\n",
    "% modulus - gives the remainder after division\n",
    "\n",
    "## Task 4a\n",
    "\n",
    "Copy and run the following program\n",
    "\n",
    "    print(1+6)\n",
    "    print(7-5)\n",
    "    print(3*9)\n",
    "    print(7/2)\n",
    "    print(7%2)"
   ]
  },
  {
   "cell_type": "code",
   "execution_count": 21,
   "metadata": {},
   "outputs": [
    {
     "name": "stdout",
     "output_type": "stream",
     "text": [
      "7\n",
      "2\n",
      "27\n",
      "3.5\n",
      "1\n"
     ]
    }
   ],
   "source": [
    "print(1+6)\n",
    "print(7-5)\n",
    "print(3*9)\n",
    "print(7/2)\n",
    "print(7%2)"
   ]
  },
  {
   "cell_type": "markdown",
   "metadata": {},
   "source": [
    "## Task 4b\n",
    "\n",
    "Try changing the calculations to new ones.\n",
    "\n",
    "We can put the results of calculations into variables.\n",
    "\n",
    "These variables will not be string but integer (whole numbers) or float (decimal).\n",
    "\n",
    "    a=10\n",
    "    b=2\n",
    "    c=a/b\n",
    "    print(c)"
   ]
  },
  {
   "cell_type": "markdown",
   "metadata": {},
   "source": [
    "## Task 4c\n",
    "\n",
    "Complete this program so it uses addition on the two variables make c then prints it.\n",
    "\n",
    "    a=7\n",
    "    b=8\n",
    "    c=?\n",
    "    print(c) "
   ]
  },
  {
   "cell_type": "code",
   "execution_count": 22,
   "metadata": {},
   "outputs": [
    {
     "name": "stdout",
     "output_type": "stream",
     "text": [
      "15\n"
     ]
    }
   ],
   "source": [
    "a=7\n",
    "b=8\n",
    "c=a+b\n",
    "print(c)"
   ]
  },
  {
   "cell_type": "markdown",
   "metadata": {},
   "source": [
    "# 5. Data Types\n",
    "\n",
    "Every variable has a given data type.  The most common data types are:\n",
    "\n",
    "- String  - Text made up of numbers, letters and characters.\n",
    "- Integer - Whole numbers. (e.g. 1, 78, 0 and -54)\n",
    "- Float - Decimal numbers (e.g. 3.5683, 98.74634, -6.3).  Float comes under the umbrella of what we often refer to as Real numbers.\n",
    "- Boolean - True or False\n",
    "\n",
    "In some languages we have to tell the computer what data type a variable is going to be.\n",
    "\n",
    "Python, on the other hand, is able to decide the data type of the variable according to what value it is first given (or to use the correct term what it is initialised with).\n",
    "\n",
    "This can cause problems when we try to do something with the wrong data type.\n",
    "\n",
    "## Task 5a\n",
    "\n",
    "Copy and run the following program.  \n",
    "\n",
    "    a=input('Enter number 1:')\n",
    "    b=input('Enter number 2:')\n",
    "    c=a+b\n",
    "    print('Adding your numbers together gives:'+c)"
   ]
  },
  {
   "cell_type": "code",
   "execution_count": 18,
   "metadata": {},
   "outputs": [
    {
     "name": "stdout",
     "output_type": "stream",
     "text": [
      "Enter number 1: 4\n",
      "Enter number 2: 6\n",
      "Adding your numbers together gives: 46\n"
     ]
    }
   ],
   "source": [
    "a=input('Enter number 1: ')\n",
    "b=input('Enter number 2: ')\n",
    "c=a+b\n",
    "print('Adding your numbers together gives: '+c)"
   ]
  },
  {
   "cell_type": "markdown",
   "metadata": {},
   "source": [
    "- If you enter the numbers 5 and 4 it will output 54.\n",
    "- This is because Python treats anything received through the input function as a string.\n",
    "- We need to tell Python we want to convert this string to an integer before putting it into the variable.\n",
    "- This is done using type casting.\n",
    "- To cast data to an integer we use int()\n",
    "\n",
    "Try the program now:\n",
    "\n",
    "    a = int(input('Enter number 1:'))\n",
    "    b = int(input('Enter number 2:'))\n",
    "    c=a+b\n",
    "    print('Adding your numbers together gives:'+c)"
   ]
  },
  {
   "cell_type": "code",
   "execution_count": 6,
   "metadata": {},
   "outputs": [
    {
     "name": "stdout",
     "output_type": "stream",
     "text": [
      "Enter number 1: 7\n",
      "Enter number 2: 2\n"
     ]
    },
    {
     "ename": "TypeError",
     "evalue": "Can't convert 'int' object to str implicitly",
     "output_type": "error",
     "traceback": [
      "\u001b[0;31m---------------------------------------------------------------------------\u001b[0m",
      "\u001b[0;31mTypeError\u001b[0m                                 Traceback (most recent call last)",
      "\u001b[0;32m<ipython-input-6-aa68662ca4cc>\u001b[0m in \u001b[0;36m<module>\u001b[0;34m()\u001b[0m\n\u001b[1;32m      2\u001b[0m \u001b[0mb\u001b[0m \u001b[0;34m=\u001b[0m \u001b[0mint\u001b[0m\u001b[0;34m(\u001b[0m\u001b[0minput\u001b[0m\u001b[0;34m(\u001b[0m\u001b[0;34m'Enter number 2: '\u001b[0m\u001b[0;34m)\u001b[0m\u001b[0;34m)\u001b[0m\u001b[0;34m\u001b[0m\u001b[0m\n\u001b[1;32m      3\u001b[0m \u001b[0mc\u001b[0m\u001b[0;34m=\u001b[0m\u001b[0ma\u001b[0m\u001b[0;34m+\u001b[0m\u001b[0mb\u001b[0m\u001b[0;34m\u001b[0m\u001b[0m\n\u001b[0;32m----> 4\u001b[0;31m \u001b[0mprint\u001b[0m\u001b[0;34m(\u001b[0m\u001b[0;34m'Adding your numbers together gives: '\u001b[0m\u001b[0;34m+\u001b[0m\u001b[0mc\u001b[0m\u001b[0;34m)\u001b[0m\u001b[0;34m\u001b[0m\u001b[0m\n\u001b[0m",
      "\u001b[0;31mTypeError\u001b[0m: Can't convert 'int' object to str implicitly"
     ]
    }
   ],
   "source": [
    "a = int(input('Enter number 1: '))\n",
    "b = int(input('Enter number 2: '))\n",
    "c=a+b\n",
    "print('Adding your numbers together gives: '+c)"
   ]
  },
  {
   "cell_type": "markdown",
   "metadata": {},
   "source": [
    "This time you will get an error in line 4:\n",
    "\n",
    "    TypeError: Can't convert 'int' object to str implicitly\n",
    "\n",
    "- This is because a and b are now integers.\n",
    "- This means c is now an integer (as it takes in the sum of two integers which in itself is an integer).\n",
    "- The problem arises when we then try and add c to a sentence: ‘Adding your numbers together gives:’\n",
    "- We can concatenate strings with strings but in Python we can’t concatenate strings with integers.\n",
    "\n",
    "The solution is to cast c back to a string when we use it  using str().\n",
    "\n",
    "    a = int(input('Enter number 1:'))\n",
    "    b = int(input('Enter number 2:'))\n",
    "    c=a+b\n",
    "    print('Adding your numbers together gives:'+str(c))\n",
    "\n",
    "Now the program should work."
   ]
  },
  {
   "cell_type": "code",
   "execution_count": 16,
   "metadata": {},
   "outputs": [
    {
     "name": "stdout",
     "output_type": "stream",
     "text": [
      "Enter number 1: 2\n",
      "Enter number 2: 6\n",
      "Adding your numbers together gives: 8\n"
     ]
    }
   ],
   "source": [
    "a = int(input('Enter number 1: '))\n",
    "b = int(input('Enter number 2: '))\n",
    "c=a+b\n",
    "print('Adding your numbers together gives: '+str(c))"
   ]
  },
  {
   "cell_type": "markdown",
   "metadata": {},
   "source": [
    "Another way to solve this problem is to print one thing after another using a comma to separate the different types like this:\n",
    "\n",
    "    print('Adding your numbers together gives:', c )"
   ]
  },
  {
   "cell_type": "code",
   "execution_count": 17,
   "metadata": {},
   "outputs": [
    {
     "name": "stdout",
     "output_type": "stream",
     "text": [
      "Adding your numbers together gives: 8\n"
     ]
    }
   ],
   "source": [
    "print('Adding your numbers together gives:', c )"
   ]
  },
  {
   "cell_type": "markdown",
   "metadata": {},
   "source": [
    "## Task 5b\n",
    "\n",
    "Write a program that asks for a length and width and outputs the area of a rectangle."
   ]
  },
  {
   "cell_type": "code",
   "execution_count": 20,
   "metadata": {},
   "outputs": [
    {
     "name": "stdout",
     "output_type": "stream",
     "text": [
      "What is the length? 6\n",
      "What is the width? 5\n",
      "The area of the rectangle is 30\n"
     ]
    }
   ],
   "source": [
    "length=int(input(\"What is the length? \"))\n",
    "width=int(input(\"What is the width? \"))\n",
    "print(\"The area of the rectangle is\", length*width)"
   ]
  },
  {
   "cell_type": "markdown",
   "metadata": {},
   "source": [
    "# 6. Selection with IF\n",
    "\n",
    "Sometimes we only want a program to execute code under certain circumstances. We call this selection. The most commonly used way of doing this is using if. Here we say if a condition is true execute some code.\n",
    "\n",
    "First we need to make sure we are happy what a condition is. All conditions are boolean and can have only two values true or false. In order to test a condition we need a comparison operator\n",
    "\n",
    "The comparison operators are as follows:\n",
    "\n",
    "Operator | Meaning\n",
    "----- | -----\n",
    "== | Equal to\n",
    "!= | Not equal to\n",
    "< | Less than\n",
    "> | Greater than\n",
    "<= | Less than or equal to\n",
    ">= | Greater than or equal to\n",
    "\n",
    "So:\n",
    "\n",
    "    letter = 'a'\n",
    "    if letter=='a':\n",
    "        print('This prints if letter is a')\n",
    "\n",
    "\n",
    "We can tell the computer to do something different when the condition isn’t true using the else keyword.\n",
    "\n",
    "    if letter=='a':\n",
    "            print('This prints if letter is a')\n",
    "    else:\n",
    "        print('This prints if the letter is not an a')\n",
    "\t\n",
    "\n",
    "Try this code:\n",
    "\n",
    "    if letter=='a':\n",
    "            print('This prints if letter is a')\n",
    "    elif letter=='b':\n",
    "        print('This prints if the letter is b')\n",
    "    else:\n",
    "        print('This prints if the letter is neither a nor b')"
   ]
  },
  {
   "cell_type": "code",
   "execution_count": 22,
   "metadata": {},
   "outputs": [
    {
     "name": "stdout",
     "output_type": "stream",
     "text": [
      "This prints if letter is a\n"
     ]
    }
   ],
   "source": [
    "letter = 'a'\n",
    "\n",
    "if letter=='a':\n",
    "        print('This prints if letter is a')\n",
    "elif letter=='b':\n",
    "    print('This prints if the letter is b')\n",
    "else:\n",
    "    print('This prints if the letter is neither a nor b')"
   ]
  },
  {
   "cell_type": "markdown",
   "metadata": {},
   "source": [
    "## A Note on Indentation\n",
    "\n",
    "When you start a new line after a colon your code in a modern IDE you should find your code indented).  Lines will keep indenting until you press backspace.  Python knows that anything indented is inside the structure with the colon - in this case the if.  Indenting is considered good practice in all programming languages as it makes code easier to read but in Python it is even more important as it affects the code’s meaning.\n",
    "\n",
    "For more complex conditions we can use the boolean operators and, or and not. When you are confident conditions with if should try to find out about these to make your code more efficient.\n",
    "\n",
    "    x=int(input('Enter a number between 1 and 100: '))\n",
    "    if x>=1 and x<=100:\n",
    "        print('You have entered a valid number')\n",
    "    else:\n",
    "        print('Your number is not valid')\n",
    "\n",
    "A common mistake would be to write the if line as if x>=1 and <=100 missing out the second x.  This is wrong and will generate an error.\n",
    "\n",
    "## Task 6a\n",
    "\n",
    "Copy and run the code below.  \n",
    "\n",
    "    city=input('What is the capital of France?')\n",
    "    if city== 'Paris':\n",
    "        print('Well done')\n",
    "    elif city=='Lyon':\n",
    "        print('Right country, wrong city')\n",
    "    elif city=='F':\n",
    "        print('Terrible joke and wrong answer.')\n",
    "    else: \n",
    "        print('Sorry wrong answer')\n",
    "\n",
    "Change the question so it asks for the capital of England and gives appropriate answers to different entries."
   ]
  },
  {
   "cell_type": "code",
   "execution_count": 1,
   "metadata": {},
   "outputs": [
    {
     "name": "stdout",
     "output_type": "stream",
     "text": [
      "What is the capital of France? Paris\n",
      "Well done\n"
     ]
    }
   ],
   "source": [
    "city=input('What is the capital of France? ')\n",
    "if city== 'Paris':\n",
    "    print('Well done')\n",
    "elif city=='Lyon':\n",
    "    print('Right country, wrong city')\n",
    "elif city=='F':\n",
    "    print('Terrible joke and wrong answer.')\n",
    "else: \n",
    "    print('Sorry wrong answer')"
   ]
  },
  {
   "cell_type": "markdown",
   "metadata": {},
   "source": [
    "## Task 6b\n",
    "\n",
    "The grade boundaries for a test are:\n",
    "\n",
    "    U -  0\n",
    "    D – 40\n",
    "    C – 50\n",
    "    B – 60\n",
    "    A – 70\n",
    "\n",
    "Write a program that asks for a mark and then says what grade it is worth."
   ]
  },
  {
   "cell_type": "code",
   "execution_count": 4,
   "metadata": {},
   "outputs": [
    {
     "name": "stdout",
     "output_type": "stream",
     "text": [
      "enter your mark: 54\n",
      "Grade C\n"
     ]
    }
   ],
   "source": [
    "mark = int(input(\"enter your mark: \"))\n",
    "\n",
    "if mark >= 70:\n",
    "    print(\"Grade A\")\n",
    "elif mark >= 60:\n",
    "    print(\"Grade B\")\n",
    "elif mark >= 50:\n",
    "    print(\"Grade C\")\n",
    "elif mark >= 40:\n",
    "    print(\"Grade D\")\n",
    "else:\n",
    "    print(\"Grade U\")"
   ]
  },
  {
   "cell_type": "markdown",
   "metadata": {},
   "source": [
    "# 7. Iteration - Count Controlled Loops\n",
    "One of the things that makes computers so useful is the speed at which they do things. This makes them useful for when we want them to do something over and over. We call this iteration or looping.  We will look at two types of loop, the first of which is a count controlled loop.  This is when a program carries out a set of instructions a certain number of times.  \n",
    "\n",
    "    for i in range(0,5):\n",
    "        print('looping')\n",
    "\n",
    "Will output\n",
    "\n",
    "    looping\n",
    "    looping\n",
    "    looping\n",
    "    looping\n",
    "    looping\n",
    "\n",
    "In the loop for i in range(x,y) x is the starting value of i and y is the one above what it will get to. So above it runs with i equal to 0,1,2,3 and 4\n",
    "\n",
    "## Task 7a\n",
    "\n",
    "Write a program that outputs the word computing 15 times."
   ]
  },
  {
   "cell_type": "code",
   "execution_count": 5,
   "metadata": {},
   "outputs": [
    {
     "name": "stdout",
     "output_type": "stream",
     "text": [
      "computing\n",
      "computing\n",
      "computing\n",
      "computing\n",
      "computing\n",
      "computing\n",
      "computing\n",
      "computing\n",
      "computing\n",
      "computing\n",
      "computing\n",
      "computing\n",
      "computing\n",
      "computing\n",
      "computing\n"
     ]
    }
   ],
   "source": [
    "for i in range(15):\n",
    "    print(\"computing\")"
   ]
  },
  {
   "cell_type": "markdown",
   "metadata": {},
   "source": [
    "We can use the variable i inside the loop.\n",
    "\n",
    "    for i in range(0,5):\n",
    "        print(str(i)+' looping')\n",
    "\n",
    "Outputs\n",
    "\n",
    "    0 looping\n",
    "    1 looping\n",
    "    2 looping\n",
    "    3 looping\n",
    "    4 looping\n",
    "\n",
    "## Task 7b\n",
    "Write a program that takes in a letter and number then prints out that letter that many times.\n",
    "\n",
    "E.g.\n",
    "\n",
    "    Please enter a letter: T\n",
    "    Please enter a number: 6\n",
    "    TTTTTT"
   ]
  },
  {
   "cell_type": "code",
   "execution_count": 6,
   "metadata": {},
   "outputs": [
    {
     "name": "stdout",
     "output_type": "stream",
     "text": [
      "enter a letter: j\n",
      "enter a number: 3\n",
      "jjj\n"
     ]
    }
   ],
   "source": [
    "letter = input(\"enter a letter: \")\n",
    "num = int(input(\"enter a number: \"))\n",
    "print(letter*num)"
   ]
  },
  {
   "cell_type": "markdown",
   "metadata": {},
   "source": [
    "## Task 7c\n",
    "\n",
    "Write a program that asks for a number then outputs it’s 10 times table.\n",
    "\n",
    "E.g.\n",
    "\n",
    "    Please enter a number: 7\n",
    "    1 times 7 is 7\n",
    "    2 times 7 is 14\n",
    "    3 times 7 is 21\n",
    "    4 times 7 is 28\n",
    "    5 times 7 is 35\n",
    "    6 times 7 is 42\n",
    "    7 times 7 is 49\n",
    "    8 times 7 is 56\n",
    "    9 times 7 is 63\n",
    "    10 times 7 is 70"
   ]
  },
  {
   "cell_type": "code",
   "execution_count": 9,
   "metadata": {},
   "outputs": [
    {
     "name": "stdout",
     "output_type": "stream",
     "text": [
      "enter a number: 2\n",
      "1 times 2 is 2\n",
      "2 times 2 is 4\n",
      "3 times 2 is 6\n",
      "4 times 2 is 8\n",
      "5 times 2 is 10\n",
      "6 times 2 is 12\n",
      "7 times 2 is 14\n",
      "8 times 2 is 16\n",
      "9 times 2 is 18\n"
     ]
    }
   ],
   "source": [
    "num = int(input(\"enter a number: \"))\n",
    "for i in range(1,10):\n",
    "    print(i,\"times\",num,\"is\",i*num)"
   ]
  },
  {
   "cell_type": "markdown",
   "metadata": {},
   "source": [
    "# 8. Iteration - Condition Controlled Loops\n",
    "\n",
    "We have looked at count controlled loops, we will now look at condition controlled loops. These are loops which continue to repeat code while a condition is true.\n",
    "\n",
    "These are exactly the same type of conditions we looked at when using if\n",
    "\n",
    "    x=0\n",
    "    while x<5:\n",
    "        print('looping')\n",
    "\n",
    "If we run the above code (don’t) you will find it goes on forever printing looping. That is because x remains 0 and so is always less than 5. Let’s fix it:\n",
    "\n",
    "    x=0 # intialise the loop variable\n",
    "    while x<5: # test the loop variable\n",
    "        print('looping')\n",
    "        x=x+1 # change the loop variable\n",
    "\n",
    "Now try running the above code."
   ]
  },
  {
   "cell_type": "code",
   "execution_count": 10,
   "metadata": {},
   "outputs": [
    {
     "name": "stdout",
     "output_type": "stream",
     "text": [
      "looping\n",
      "looping\n",
      "looping\n",
      "looping\n",
      "looping\n"
     ]
    }
   ],
   "source": [
    "x=0 # intialise the loop variable\n",
    "while x<5: # test the loop variable\n",
    "    print('looping')\n",
    "    x=x+1 # change the loop variable"
   ]
  },
  {
   "cell_type": "markdown",
   "metadata": {},
   "source": [
    "## Task 8a\n",
    "\n",
    "Write a program that asks for a password and keeps asking until the correct password, *apple* is entered and then says *Accepted*."
   ]
  },
  {
   "cell_type": "code",
   "execution_count": 1,
   "metadata": {},
   "outputs": [
    {
     "name": "stdout",
     "output_type": "stream",
     "text": [
      "enter the password: memes\n",
      "wrong, try again\n",
      "enter the password: apple\n",
      "accepted\n"
     ]
    }
   ],
   "source": [
    "userPass=input(\"enter the password: \")\n",
    "realPass = \"apple\"\n",
    "count=1\n",
    "\n",
    "while userPass != realPass:\n",
    "    print(\"wrong, try again\")\n",
    "    userPass=input(\"enter the password: \")\n",
    "    count+=1\n",
    "    \n",
    "print(\"accepted\")"
   ]
  },
  {
   "cell_type": "markdown",
   "metadata": {},
   "source": [
    "## Task 8b\n",
    "\n",
    "The sequence 1,4,9,16,25 is made up of square numbers (i.e.1=12, 4 = 22, 9=32 etc.)\n",
    "\n",
    "Write a program that writes out all the square numbers under 500."
   ]
  },
  {
   "cell_type": "code",
   "execution_count": 17,
   "metadata": {},
   "outputs": [
    {
     "name": "stdout",
     "output_type": "stream",
     "text": [
      "16\n"
     ]
    }
   ],
   "source": [
    "print(4**2)"
   ]
  }
 ],
 "metadata": {
  "kernelspec": {
   "display_name": "Python 3",
   "language": "python",
   "name": "python3"
  },
  "language_info": {
   "codemirror_mode": {
    "name": "ipython",
    "version": 3
   },
   "file_extension": ".py",
   "mimetype": "text/x-python",
   "name": "python",
   "nbconvert_exporter": "python",
   "pygments_lexer": "ipython3",
   "version": "3.5.2"
  }
 },
 "nbformat": 4,
 "nbformat_minor": 2
}
