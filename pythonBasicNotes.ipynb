{
 "cells": [
  {
   "cell_type": "markdown",
   "metadata": {},
   "source": [
    "# Data Types\n",
    "\n",
    "Data Type - Explain | Data Type - Python | Example of data this type can store/hold\n",
    "---------- | ---------- | ----------\n",
    "Whole Numbers | Integers (int) | 7 (- or +)\n",
    "Numbers with Decimals | Floats | 3.9 (- or +)\n",
    "Characters & Numbers in Speech Marks | Strings (str) | \"64 Zoo Lane\"\n",
    "\n",
    "# Comparison Operators\n",
    "\n",
    "== equal to\n",
    "\n",
    "!= not equal to"
   ]
  },
  {
   "cell_type": "code",
   "execution_count": 10,
   "metadata": {},
   "outputs": [
    {
     "name": "stdout",
     "output_type": "stream",
     "text": [
      "452.16\n"
     ]
    }
   ],
   "source": [
    "#this is the area of a circle\n",
    "#do not use capital letters or spaces\n",
    "#for long names use the underscore e.g. circle_radius\n",
    "\n",
    "pi=3.14\n",
    "#pi is a constant, meaning it will not change.\n",
    "\n",
    "radius= 12\n",
    "#radius is a variable, meaning it will change.\n",
    "\n",
    "print(pi*(radius**2))\n",
    "#** means to the power of something."
   ]
  },
  {
   "cell_type": "markdown",
   "metadata": {},
   "source": [
    "# Key Words\n",
    "\n",
    "Variable: named location stores data which changes\n",
    "\n",
    "Constant: stores data that doesn't change\n",
    "\n",
    "String: anything you input with the keyboard, any character or number in quotation marks\n",
    "\n",
    "Float: a number"
   ]
  },
  {
   "cell_type": "code",
   "execution_count": 2,
   "metadata": {
    "collapsed": true
   },
   "outputs": [],
   "source": [
    "import random\n",
    "#able to generate a random number\n",
    "\n",
    "from random import randint\n",
    "#same function but saves memory"
   ]
  }
 ],
 "metadata": {
  "kernelspec": {
   "display_name": "Python 3",
   "language": "python",
   "name": "python3"
  },
  "language_info": {
   "codemirror_mode": {
    "name": "ipython",
    "version": 3
   },
   "file_extension": ".py",
   "mimetype": "text/x-python",
   "name": "python",
   "nbconvert_exporter": "python",
   "pygments_lexer": "ipython3",
   "version": "3.5.2"
  }
 },
 "nbformat": 4,
 "nbformat_minor": 2
}
