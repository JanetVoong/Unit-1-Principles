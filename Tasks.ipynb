{
 "cells": [
  {
   "cell_type": "markdown",
   "metadata": {},
   "source": [
    "# Task 1: Simulate one dice roll in Python\n",
    "\n",
    "Use well-named variable(s), constants(s), string(s), the random module and good user interaction (input and output). "
   ]
  },
  {
   "cell_type": "code",
   "execution_count": 2,
   "metadata": {},
   "outputs": [
    {
     "name": "stdout",
     "output_type": "stream",
     "text": [
      "Do you want to roll the dice?yes\n",
      "yes\n"
     ]
    },
    {
     "ename": "TypeError",
     "evalue": "randint() takes 3 positional arguments but 7 were given",
     "output_type": "error",
     "traceback": [
      "\u001b[0;31m---------------------------------------------------------------------------\u001b[0m",
      "\u001b[0;31mTypeError\u001b[0m                                 Traceback (most recent call last)",
      "\u001b[0;32m<ipython-input-2-433340fdc984>\u001b[0m in \u001b[0;36m<module>\u001b[0;34m()\u001b[0m\n\u001b[1;32m      7\u001b[0m \u001b[0;31m#this will allow the variables to be randomly selected\u001b[0m\u001b[0;34m\u001b[0m\u001b[0;34m\u001b[0m\u001b[0m\n\u001b[1;32m      8\u001b[0m \u001b[0;34m\u001b[0m\u001b[0m\n\u001b[0;32m----> 9\u001b[0;31m \u001b[0mdice\u001b[0m \u001b[0;34m=\u001b[0m \u001b[0mrandint\u001b[0m \u001b[0;34m(\u001b[0m\u001b[0;36m1\u001b[0m\u001b[0;34m,\u001b[0m \u001b[0;36m2\u001b[0m\u001b[0;34m,\u001b[0m \u001b[0;36m3\u001b[0m\u001b[0;34m,\u001b[0m \u001b[0;36m4\u001b[0m\u001b[0;34m,\u001b[0m \u001b[0;36m5\u001b[0m\u001b[0;34m,\u001b[0m \u001b[0;36m6\u001b[0m\u001b[0;34m)\u001b[0m\u001b[0;34m\u001b[0m\u001b[0m\n\u001b[0m\u001b[1;32m     10\u001b[0m \u001b[0;31m#dice will represent the vaiables of a dice\u001b[0m\u001b[0;34m\u001b[0m\u001b[0;34m\u001b[0m\u001b[0m\n\u001b[1;32m     11\u001b[0m \u001b[0;34m\u001b[0m\u001b[0m\n",
      "\u001b[0;31mTypeError\u001b[0m: randint() takes 3 positional arguments but 7 were given"
     ]
    }
   ],
   "source": [
    "roll_dice = input(\"Do you want to roll the dice?\")\n",
    "\n",
    "print(roll_dice)\n",
    "#do not put quoatation marks as it will identify it as a string\n",
    "\n",
    "from random import randint\n",
    "#this will allow the variables to be randomly selected\n",
    "\n",
    "dice = randint (1, 2, 3, 4, 5, 6)\n",
    "#dice will represent the vaiables of a dice\n",
    "\n",
    "if roll_dice == (\"yes\") or (\"y\"):\n",
    "    print(dice)\n",
    "    #this will display the randomly selected variables\n",
    "\n",
    "else:\n",
    "    print(\"thank you, goodbye\")"
   ]
  },
  {
   "cell_type": "markdown",
   "metadata": {},
   "source": [
    "# Task 2: Weather Based IF Statement\n",
    "\n",
    "Write a program that tells the user what to wear (shorts, trousers, hat, coat, etc etc you choose) based on the temperature that they input. Use well-named variable(s), constants(s), string(s), type conversion, a complex IF statement, comparison and logical operators, and good input and output messages."
   ]
  },
  {
   "cell_type": "code",
   "execution_count": null,
   "metadata": {
    "collapsed": true
   },
   "outputs": [],
   "source": [
    "Weather = input(\"What is the temperature today?\")\n",
    "\n",
    "spring = trousers, trainers\n",
    "summer = shorts, t-shirt, flip-flops, sunglasses\n",
    "autumn = trousers, shirt, jacket, shoes, hat\n",
    "winter = trousers, jumper, coat, boots, hat, gloves, scarf\n",
    "#these are the variables\n",
    "\n",
    "if weather < 25:\n",
    "    print(summer)\n",
    "    \n",
    "elif weather < 18\n",
    "    print(spring)\n",
    "    \n",
    "elif weather < 1\n",
    "    print(autumn)\n",
    "    \n",
    "elif weather > 0\n",
    "    print(winter)\n",
    "    \n",
    "else:\n",
    "    print(\"please try again\")"
   ]
  },
  {
   "cell_type": "markdown",
   "metadata": {},
   "source": [
    "# Task 4\n",
    "Allow entry to a movie if the user is older than 18 or if they are accompanied by an adult."
   ]
  },
  {
   "cell_type": "code",
   "execution_count": 1,
   "metadata": {},
   "outputs": [
    {
     "ename": "NameError",
     "evalue": "name 'adult' is not defined",
     "output_type": "error",
     "traceback": [
      "\u001b[0;31m---------------------------------------------------------------------------\u001b[0m",
      "\u001b[0;31mNameError\u001b[0m                                 Traceback (most recent call last)",
      "\u001b[0;32m<ipython-input-1-db32ec668b75>\u001b[0m in \u001b[0;36m<module>\u001b[0;34m()\u001b[0m\n\u001b[1;32m      1\u001b[0m \u001b[0mage\u001b[0m \u001b[0;34m=\u001b[0m \u001b[0;36m15\u001b[0m\u001b[0;34m\u001b[0m\u001b[0m\n\u001b[0;32m----> 2\u001b[0;31m \u001b[0maccompanied\u001b[0m \u001b[0;34m=\u001b[0m \u001b[0madult\u001b[0m\u001b[0;34m\u001b[0m\u001b[0m\n\u001b[0m\u001b[1;32m      3\u001b[0m \u001b[0;31m#constants\u001b[0m\u001b[0;34m\u001b[0m\u001b[0;34m\u001b[0m\u001b[0m\n\u001b[1;32m      4\u001b[0m \u001b[0;34m\u001b[0m\u001b[0m\n\u001b[1;32m      5\u001b[0m \u001b[0;32mif\u001b[0m \u001b[0mage\u001b[0m \u001b[0;34m<\u001b[0m \u001b[0;36m18\u001b[0m \u001b[0;32mor\u001b[0m \u001b[0maccompanied\u001b[0m \u001b[0;34m==\u001b[0m \u001b[0madult\u001b[0m\u001b[0;34m:\u001b[0m\u001b[0;34m\u001b[0m\u001b[0m\n",
      "\u001b[0;31mNameError\u001b[0m: name 'adult' is not defined"
     ]
    }
   ],
   "source": [
    "Movie = input(\"How old are you?\")\n",
    "\n",
    "if age < 18:\n",
    "    print(\"You may enter, enjoy the movie!\")\n",
    "elif:\n",
    "    print(\"Are you accompanied by an adult?\")\n",
    "if movie == (\"yes\")\n",
    "    print(\"\")"
   ]
  },
  {
   "cell_type": "markdown",
   "metadata": {},
   "source": [
    "# Task 5\n",
    "\n",
    "Allow the user to come to your party if they are a boy and they like pizza."
   ]
  },
  {
   "cell_type": "markdown",
   "metadata": {},
   "source": []
  },
  {
   "cell_type": "markdown",
   "metadata": {},
   "source": [
    "# ITERATION: FOR loops in PYTHON (counting loops)"
   ]
  },
  {
   "cell_type": "code",
   "execution_count": 13,
   "metadata": {},
   "outputs": [
    {
     "name": "stdout",
     "output_type": "stream",
     "text": [
      "Current Letter: P\n",
      "Current Letter: Y\n",
      "Current Letter: T\n",
      "Current Letter: H\n",
      "Current Letter: O\n",
      "Current Letter: N\n"
     ]
    }
   ],
   "source": [
    "#exmaple 1\n",
    "#identifies each letter of \"python\"\n",
    "\n",
    "for letter in \"PYTHON\":\n",
    "    print(\"Current Letter:\",letter)"
   ]
  },
  {
   "cell_type": "code",
   "execution_count": 12,
   "metadata": {},
   "outputs": [
    {
     "name": "stdout",
     "output_type": "stream",
     "text": [
      "hello\n",
      "goodbye\n",
      "hello\n",
      "goodbye\n",
      "hello\n",
      "goodbye\n",
      "hello\n",
      "goodbye\n",
      "hello\n",
      "goodbye\n",
      "hello\n",
      "goodbye\n",
      "hello\n",
      "goodbye\n",
      "hello\n",
      "goodbye\n",
      "hello\n",
      "goodbye\n"
     ]
    }
   ],
   "source": [
    "#example 2\n",
    "#prints 18 outputs\n",
    "\n",
    "for x in range(0,9):\n",
    "    print(\"hello\")\n",
    "    print(\"goodbye\")"
   ]
  },
  {
   "cell_type": "code",
   "execution_count": 26,
   "metadata": {},
   "outputs": [
    {
     "name": "stdout",
     "output_type": "stream",
     "text": [
      "f.r.e.d."
     ]
    }
   ],
   "source": [
    "#example 3\n",
    "#prints out the variable with characters replacing in between each letter of the variable\n",
    "\n",
    "name=\"fred\"\n",
    "for ch in name:\n",
    "    print(ch, end=\".\")"
   ]
  },
  {
   "cell_type": "code",
   "execution_count": 15,
   "metadata": {},
   "outputs": [
    {
     "name": "stdout",
     "output_type": "stream",
     "text": [
      "1\n",
      "6\n",
      "11\n",
      "16\n",
      "21\n",
      "26\n",
      "31\n",
      "36\n",
      "41\n",
      "46\n",
      "51\n",
      "56\n",
      "61\n",
      "66\n",
      "71\n",
      "76\n",
      "81\n",
      "86\n",
      "91\n",
      "96\n"
     ]
    }
   ],
   "source": [
    "#example 4\n",
    "#print out numbers 1 - 100, adding 5 each time\n",
    "\n",
    "for x in range (1,101,5):\n",
    "    print(x)"
   ]
  },
  {
   "cell_type": "code",
   "execution_count": 28,
   "metadata": {},
   "outputs": [
    {
     "name": "stdout",
     "output_type": "stream",
     "text": [
      "* 1\n",
      "* 2\n",
      "* 3\n",
      "* 4\n",
      "* 5\n",
      "* 6\n",
      "* 7\n",
      "* 8\n",
      "* 9\n",
      "* 10\n",
      "* 11\n",
      "* 12\n",
      "* 13\n",
      "* 14\n",
      "* 15\n",
      "* 16\n",
      "* 17\n",
      "* 18\n",
      "* 19\n",
      "* 20\n",
      "* 21\n",
      "* 22\n",
      "* 23\n",
      "* 24\n",
      "* 25\n",
      "* 26\n",
      "* 27\n",
      "* 28\n",
      "* 29\n",
      "* 30\n",
      "* 31\n",
      "* 32\n",
      "* 33\n",
      "* 34\n",
      "* 35\n",
      "* 36\n",
      "* 37\n",
      "* 38\n",
      "* 39\n",
      "* 40\n",
      "* 41\n",
      "* 42\n",
      "* 43\n",
      "* 44\n",
      "* 45\n",
      "* 46\n",
      "* 47\n",
      "* 48\n",
      "* 49\n",
      "* 50\n",
      "* 51\n",
      "* 52\n",
      "* 53\n",
      "* 54\n",
      "* 55\n",
      "* 56\n",
      "* 57\n",
      "* 58\n",
      "* 59\n",
      "* 60\n",
      "* 61\n",
      "* 62\n",
      "* 63\n",
      "* 64\n",
      "* 65\n",
      "* 66\n",
      "* 67\n",
      "* 68\n",
      "* 69\n",
      "* 70\n",
      "* 71\n",
      "* 72\n",
      "* 73\n",
      "* 74\n",
      "* 75\n",
      "* 76\n",
      "* 77\n",
      "* 78\n",
      "* 79\n",
      "* 80\n",
      "* 81\n",
      "* 82\n",
      "* 83\n",
      "* 84\n",
      "* 85\n",
      "* 86\n",
      "* 87\n",
      "* 88\n",
      "* 89\n",
      "* 90\n",
      "* 91\n",
      "* 92\n",
      "* 93\n",
      "* 94\n",
      "* 95\n",
      "* 96\n",
      "* 97\n",
      "* 98\n",
      "* 99\n",
      "* 100\n"
     ]
    }
   ],
   "source": [
    "#task 1\n",
    "#print out the numbers 1- 100 separated by stars\n",
    "\n",
    "for x in range (1,101):\n",
    "    print(\"*\",x)"
   ]
  },
  {
   "cell_type": "code",
   "execution_count": null,
   "metadata": {
    "collapsed": true
   },
   "outputs": [],
   "source": [
    "#task 2\n",
    "#print out user inputted  message BACKWARDS\n",
    "\n"
   ]
  }
 ],
 "metadata": {
  "kernelspec": {
   "display_name": "Python 3",
   "language": "python",
   "name": "python3"
  },
  "language_info": {
   "codemirror_mode": {
    "name": "ipython",
    "version": 3
   },
   "file_extension": ".py",
   "mimetype": "text/x-python",
   "name": "python",
   "nbconvert_exporter": "python",
   "pygments_lexer": "ipython3",
   "version": "3.5.2"
  }
 },
 "nbformat": 4,
 "nbformat_minor": 2
}
